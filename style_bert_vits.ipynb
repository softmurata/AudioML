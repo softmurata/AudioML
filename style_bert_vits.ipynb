{
  "nbformat": 4,
  "nbformat_minor": 0,
  "metadata": {
    "colab": {
      "provenance": [],
      "gpuType": "T4",
      "authorship_tag": "ABX9TyOikP+USgr1cmVS6B2afouf",
      "include_colab_link": true
    },
    "kernelspec": {
      "name": "python3",
      "display_name": "Python 3"
    },
    "language_info": {
      "name": "python"
    },
    "accelerator": "GPU"
  },
  "cells": [
    {
      "cell_type": "markdown",
      "metadata": {
        "id": "view-in-github",
        "colab_type": "text"
      },
      "source": [
        "<a href=\"https://colab.research.google.com/github/softmurata/AudioML/blob/main/style_bert_vits.ipynb\" target=\"_parent\"><img src=\"https://colab.research.google.com/assets/colab-badge.svg\" alt=\"Open In Colab\"/></a>"
      ]
    },
    {
      "cell_type": "code",
      "source": [
        "# Link: https://drive.google.com/drive/folders/15YtV1xv_nYflTHd5twFTLMxw_41dHyiu?usp=drive_link"
      ],
      "metadata": {
        "id": "nTk9UUTRH_0I"
      },
      "execution_count": null,
      "outputs": []
    },
    {
      "cell_type": "markdown",
      "source": [
        "Installation"
      ],
      "metadata": {
        "id": "S7do6UW1JQrx"
      }
    },
    {
      "cell_type": "code",
      "execution_count": null,
      "metadata": {
        "id": "XMKaxtQyI45p"
      },
      "outputs": [],
      "source": [
        "!git clone https://github.com/litagin02/Style-Bert-VITS2.git\n",
        "%cd Style-Bert-VITS2/\n",
        "!pip install -r requirements.txt\n",
        "!apt install libcublas11\n",
        "!python initialize.py"
      ]
    },
    {
      "cell_type": "code",
      "source": [
        "%cd /content/Style-Bert-VITS2/\n",
        "# 学習に必要なファイルや途中経過が保存されるディレクトリ\n",
        "dataset_root = \"/content/Style-Bert-VITS2/Data\"\n",
        "\n",
        "# 学習結果（音声合成に必要なファイルたち）が保存されるディレクトリ\n",
        "assets_root = \"/content/Style-Bert-VITS2/model_assets\"\n",
        "\n",
        "import yaml\n",
        "\n",
        "\n",
        "with open(\"configs/paths.yml\", \"w\", encoding=\"utf-8\") as f:\n",
        "    yaml.dump({\"dataset_root\": dataset_root, \"assets_root\": assets_root}, f)"
      ],
      "metadata": {
        "colab": {
          "base_uri": "https://localhost:8080/"
        },
        "id": "uzlhlrJMJ7dx",
        "outputId": "39645ff5-ccf8-4f70-8fde-15e537c1ce89"
      },
      "execution_count": 1,
      "outputs": [
        {
          "output_type": "stream",
          "name": "stdout",
          "text": [
            "/content/Style-Bert-VITS2\n"
          ]
        }
      ]
    },
    {
      "cell_type": "code",
      "source": [
        "# 元となる音声ファイル（wav形式）を入れるディレクトリ\n",
        "input_dir = \"/content/Style-Bert-VITS2/inputs\"\n",
        "# モデル名（話者名）を入力\n",
        "model_name = \"anya\"\n",
        "\n",
        "!python slice.py -i {input_dir} -o {dataset_root}/{model_name}/raw\n",
        "!python transcribe.py -i {dataset_root}/{model_name}/raw -o {dataset_root}/{model_name}/esd.list --speaker_name {model_name} --compute_type float16"
      ],
      "metadata": {
        "id": "PjgU2rP-JqJ0"
      },
      "execution_count": null,
      "outputs": []
    },
    {
      "cell_type": "markdown",
      "source": [
        "学習データを前もって用意"
      ],
      "metadata": {
        "id": "xtah6GUmMdNb"
      }
    },
    {
      "cell_type": "code",
      "source": [
        "import os\n",
        "os.makedirs(\"/content/Style-Bert-VITS2/Data/anya/raw\")"
      ],
      "metadata": {
        "id": "sQK00fEoMfR3"
      },
      "execution_count": 6,
      "outputs": []
    },
    {
      "cell_type": "code",
      "source": [
        "!cp -r /content/Style-Bert-VITS2/inputs/* /content/Style-Bert-VITS2/Data/anya/raw/"
      ],
      "metadata": {
        "id": "kHncsIbPN8Ea"
      },
      "execution_count": 7,
      "outputs": []
    },
    {
      "cell_type": "code",
      "source": [
        "# ファイルを読み込む\n",
        "with open(dataset_root + \"/anya/anya.txt\", \"r\", encoding=\"utf-8\") as file:\n",
        "    lines = file.readlines()\n",
        "\n",
        "# コンバート\n",
        "result = []\n",
        "for line in lines:\n",
        "    strs = line.split(\"|\")\n",
        "    filename = strs[0].split(\"/\")[-1]\n",
        "    script = strs[2]\n",
        "    result.append(f\"/content/Style-Bert-VITS2/Data/anya/raw/{filename}|anya|JP|{script}\")\n",
        "\n",
        "# 変更をファイルに保存\n",
        "with open(dataset_root + \"/anya/esd.list\", \"w\", encoding=\"utf-8\") as file:\n",
        "    file.writelines(result)"
      ],
      "metadata": {
        "id": "djLU-_auM-i-"
      },
      "execution_count": 9,
      "outputs": []
    },
    {
      "cell_type": "markdown",
      "source": [
        "Preprocess"
      ],
      "metadata": {
        "id": "0uFg1s1FKiBQ"
      }
    },
    {
      "cell_type": "code",
      "source": [
        "%cd /content/Style-Bert-VITS2/\n",
        "# 上でつけたフォルダの名前`Data/{model_name}/`\n",
        "model_name = \"anya\"\n",
        "\n",
        "# 学習のバッチサイズ。VRAMのはみ出具合に応じて調整してください。\n",
        "batch_size = 4\n",
        "\n",
        "# 学習のエポック数（データセットを合計何周するか）。\n",
        "# 100ぐらいで十分かもしれませんが、もっと多くやると質が上がるのかもしれません。\n",
        "epochs = 100\n",
        "\n",
        "# 保存頻度。何ステップごとにモデルを保存するか。分からなければデフォルトのままで。\n",
        "save_every_steps = 1000\n",
        "\n",
        "# 音声ファイルの音量を正規化するかどうか。`True`もしくは`False`\n",
        "normalize = False\n",
        "\n",
        "# 音声ファイルの開始・終了にある無音区間を削除するかどうか\n",
        "trim = False\n",
        "\n",
        "\n",
        "from webui_train import preprocess_all\n",
        "\n",
        "preprocess_all(\n",
        "    model_name=model_name,\n",
        "    batch_size=batch_size,\n",
        "    epochs=epochs,\n",
        "    save_every_steps=save_every_steps,\n",
        "    bf16_run=False,\n",
        "    num_processes=2,\n",
        "    normalize=normalize,\n",
        "    trim=trim,\n",
        ")"
      ],
      "metadata": {
        "id": "w8OpUTKIKeCV"
      },
      "execution_count": null,
      "outputs": []
    },
    {
      "cell_type": "markdown",
      "source": [
        "Training"
      ],
      "metadata": {
        "id": "KLDpSodOKxsz"
      }
    },
    {
      "cell_type": "code",
      "source": [
        "%cd /content/Style-Bert-VITS2/\n",
        "# 上でつけたモデル名を入力。学習を途中からする場合はきちんとモデルが保存されているフォルダ名を入力。\n",
        "model_name = \"anya\"\n",
        "\n",
        "\n",
        "import yaml\n",
        "from webui_train import get_path\n",
        "\n",
        "dataset_path, _, _, _, config_path = get_path(model_name)\n",
        "\n",
        "with open(\"default_config.yml\", \"r\", encoding=\"utf-8\") as f:\n",
        "    yml_data = yaml.safe_load(f)\n",
        "yml_data[\"model_name\"] = model_name\n",
        "with open(\"config.yml\", \"w\", encoding=\"utf-8\") as f:\n",
        "    yaml.dump(yml_data, f, allow_unicode=True)\n",
        "\n",
        "!python train_ms.py --config {config_path} --model {dataset_path} --assets_root {assets_root}"
      ],
      "metadata": {
        "id": "R6DmoAUNKyjg"
      },
      "execution_count": null,
      "outputs": []
    },
    {
      "cell_type": "markdown",
      "source": [
        "Inference with webapp"
      ],
      "metadata": {
        "id": "_9VFOrAqK2I5"
      }
    },
    {
      "cell_type": "code",
      "source": [
        "%cd /content/Style-Bert-VITS2/\n",
        "!python app.py --share --dir {assets_root}"
      ],
      "metadata": {
        "id": "NBUGgONHK2-T"
      },
      "execution_count": null,
      "outputs": []
    }
  ]
}