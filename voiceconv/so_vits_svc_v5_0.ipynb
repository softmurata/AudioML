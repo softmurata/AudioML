{
  "cells": [
    {
      "cell_type": "markdown",
      "metadata": {
        "id": "view-in-github",
        "colab_type": "text"
      },
      "source": [
        "<a href=\"https://colab.research.google.com/github/softmurata/AudioML/blob/main/voiceconv/so_vits_svc_v5_0.ipynb\" target=\"_parent\"><img src=\"https://colab.research.google.com/assets/colab-badge.svg\" alt=\"Open In Colab\"/></a>"
      ]
    },
    {
      "cell_type": "markdown",
      "source": [
        "Docs\n",
        "\n",
        "[github](https://github.com/PlayVoice/so-vits-svc-5.0)"
      ],
      "metadata": {
        "id": "m9MfQvNrbU_6"
      }
    },
    {
      "cell_type": "code",
      "source": [
        "from google.colab import drive\n",
        "drive.mount('/content/drive')"
      ],
      "metadata": {
        "colab": {
          "base_uri": "https://localhost:8080/"
        },
        "id": "-8Hm1KaLUNnt",
        "outputId": "5a653156-d73a-442d-f4ae-7cc26e18febb"
      },
      "execution_count": null,
      "outputs": [
        {
          "output_type": "stream",
          "name": "stdout",
          "text": [
            "Mounted at /content/drive\n"
          ]
        }
      ]
    },
    {
      "cell_type": "markdown",
      "metadata": {
        "id": "KYY8w6GZQw2t"
      },
      "source": [
        "Installation"
      ]
    },
    {
      "cell_type": "code",
      "execution_count": null,
      "metadata": {
        "id": "YmpTtcwMQMkc"
      },
      "outputs": [],
      "source": [
        "!git clone https://github.com/PlayVoice/so-vits-svc-5.0.git"
      ]
    },
    {
      "cell_type": "code",
      "execution_count": null,
      "metadata": {
        "id": "miW3L6rnQ4fn"
      },
      "outputs": [],
      "source": [
        "%cd /content/so-vits-svc-5.0\n",
        "!pip install -i https://pypi.tuna.tsinghua.edu.cn/simple -r requirements.txt"
      ]
    },
    {
      "cell_type": "markdown",
      "metadata": {
        "id": "_6HEhiSARTnz"
      },
      "source": [
        "Download Pretrained weights"
      ]
    },
    {
      "cell_type": "code",
      "execution_count": null,
      "metadata": {
        "id": "qEG0YZRoRJfr"
      },
      "outputs": [],
      "source": [
        "%cd /content\n",
        "!gdown --fuzzy https://drive.google.com/file/d/1UPjQ2LVSIt3o-9QMKMJcdzT8aZRZCI-E/view?usp=drive_link"
      ]
    },
    {
      "cell_type": "code",
      "execution_count": null,
      "metadata": {
        "id": "kgkgmmYhRaZq"
      },
      "outputs": [],
      "source": [
        "!wget https://openaipublic.azureedge.net/main/whisper/models/81f7c96c852ee8fc832187b0132e569d6c3065a3252ed18e56effd0b6a73e524/large-v2.pt"
      ]
    },
    {
      "cell_type": "code",
      "execution_count": null,
      "metadata": {
        "id": "HzMXv4jARjdT"
      },
      "outputs": [],
      "source": [
        "!wget https://github.com/bshall/hubert/releases/download/v0.1/hubert-soft-0d54a1f4.pt"
      ]
    },
    {
      "cell_type": "code",
      "execution_count": null,
      "metadata": {
        "id": "o4WuOE-zRxVC"
      },
      "outputs": [],
      "source": [
        "!wget https://github.com/maxrmorrison/torchcrepe/raw/master/torchcrepe/assets/full.pth"
      ]
    },
    {
      "cell_type": "code",
      "execution_count": null,
      "metadata": {
        "id": "tG1O4fPsR6f9"
      },
      "outputs": [],
      "source": [
        "!wget https://github.com/PlayVoice/so-vits-svc-5.0/releases/download/5.0/sovits5.0.pretrain.pth"
      ]
    },
    {
      "cell_type": "markdown",
      "metadata": {
        "id": "aXNa4dCFSAIY"
      },
      "source": [
        "Put them"
      ]
    },
    {
      "cell_type": "code",
      "execution_count": null,
      "metadata": {
        "id": "KJe3oK1ZSBjx"
      },
      "outputs": [],
      "source": [
        "!cp /content/best_model.pth.tar /content/so-vits-svc-5.0/speaker_pretrain/\n",
        "!cp /content/large-v2.pt /content/so-vits-svc-5.0/whisper_pretrain/\n",
        "!cp /content/hubert-soft-0d54a1f4.pt /content/so-vits-svc-5.0/hubert_pretrain/\n",
        "!cp /content/full.pth /content/so-vits-svc-5.0/crepe/assets/\n",
        "!cp /content/sovits5.0.pretrain.pth  /content/so-vits-svc-5.0/vits_pretrain/"
      ]
    },
    {
      "cell_type": "markdown",
      "metadata": {
        "id": "X1IyDlETSpKd"
      },
      "source": [
        "Check inference"
      ]
    },
    {
      "cell_type": "code",
      "execution_count": null,
      "metadata": {
        "id": "-o0p8IQ8Sntk"
      },
      "outputs": [],
      "source": [
        "%cd /content/so-vits-svc-5.0\n",
        "!python svc_inference.py --config configs/base.yaml --model ./vits_pretrain/sovits5.0.pretrain.pth --spk ./configs/singers/singer0001.npy --wave test.wav"
      ]
    },
    {
      "cell_type": "code",
      "execution_count": null,
      "metadata": {
        "colab": {
          "background_save": true
        },
        "id": "15Aa3eGKTXe_"
      },
      "outputs": [],
      "source": [
        "from IPython.display import Audio, display\n",
        "\n",
        "sound_boo = \"/content/so-vits-svc-5.0/svc_out.wav\"\n",
        "display(Audio(sound_boo, autoplay=True))"
      ]
    },
    {
      "cell_type": "markdown",
      "source": [
        "Dataset Preparation"
      ],
      "metadata": {
        "id": "-X4eiHDHUUHZ"
      }
    },
    {
      "cell_type": "code",
      "source": [
        "!mkdir /content/dataset_raw"
      ],
      "metadata": {
        "id": "e4VjAtQrUVfz"
      },
      "execution_count": null,
      "outputs": []
    },
    {
      "cell_type": "code",
      "source": [
        "!mkdir /content/dataset_raw/speaker0\n",
        "!cp -r /content/drive/MyDrive/anya/* /content/dataset_raw/speaker0/"
      ],
      "metadata": {
        "id": "F8sk2_y9Ucyf"
      },
      "execution_count": null,
      "outputs": []
    },
    {
      "cell_type": "code",
      "source": [
        "!cp -r /content/dataset_raw /content/so-vits-svc-5.0/"
      ],
      "metadata": {
        "id": "_SWng4wLU2vT"
      },
      "execution_count": null,
      "outputs": []
    },
    {
      "cell_type": "code",
      "source": [
        "%cd /content/so-vits-svc-5.0\n",
        "!python svc_preprocessing.py -t 1"
      ],
      "metadata": {
        "id": "Gu8WWeU8Utue"
      },
      "execution_count": null,
      "outputs": []
    },
    {
      "cell_type": "markdown",
      "source": [
        "Training"
      ],
      "metadata": {
        "id": "MsANdBAwVTc9"
      }
    },
    {
      "cell_type": "code",
      "source": [
        "# 700回くらい学習させるといい感じ！保存する重みのintervalを減らさないとcolabのストレージが足りなくなるので注意!\n",
        "%cd /content/so-vits-svc-5.0\n",
        "!python svc_trainer.py -c configs/base.yaml -n sovits5.0"
      ],
      "metadata": {
        "id": "5--4OqsaVUU7"
      },
      "execution_count": null,
      "outputs": []
    },
    {
      "cell_type": "markdown",
      "source": [
        "Export Model"
      ],
      "metadata": {
        "id": "zAo0PH1BYFQ1"
      }
    },
    {
      "cell_type": "code",
      "source": [
        "%cd /content/so-vits-svc-5.0\n",
        "!python svc_export.py --config configs/base.yaml --checkpoint_path /content/so-vits-svc-5.0/chkpt/sovits5.0/sovits5.0_0700.pt"
      ],
      "metadata": {
        "id": "jC_ajbveYG8H"
      },
      "execution_count": null,
      "outputs": []
    },
    {
      "cell_type": "markdown",
      "source": [
        "Not Adjust Inference"
      ],
      "metadata": {
        "id": "dYVXBnVkYS3I"
      }
    },
    {
      "cell_type": "code",
      "source": [
        "# めっちゃ時間かかる、、\n",
        "# あらかじめ作成しておいた上でembeddingで似たような文章を取得して返すみたいな感じにするしかない、、\n",
        "# %cd /content/so-vits-svc-5.0\n",
        "!python svc_inference.py --config configs/base.yaml --model sovits5.0.pth --spk ./data_svc/singer/speaker0.spk.npy --wave /content/so-vits-svc-5.0/anmarimuzukashiku_01.wav --shift 0"
      ],
      "metadata": {
        "id": "napHyI02YU3z"
      },
      "execution_count": null,
      "outputs": []
    },
    {
      "cell_type": "markdown",
      "source": [
        "Drive inference"
      ],
      "metadata": {
        "id": "EyDeHaxg8fSD"
      }
    },
    {
      "cell_type": "code",
      "source": [
        "%cd /content/drive/MyDrive/so-vits-svc-5.0\n",
        "!python svc_inference.py --config configs/base.yaml --model sovits5.0.pth --spk ./data_svc/singer/speaker0.spk.npy --wave /content/answerfiles/002.wav --shift 0"
      ],
      "metadata": {
        "id": "fBN9G1C6u4bR"
      },
      "execution_count": null,
      "outputs": []
    },
    {
      "cell_type": "code",
      "source": [
        "from IPython.display import Audio, display\n",
        "\n",
        "sound_boo = \"/content/case1/002.wav\"\n",
        "display(Audio(sound_boo, autoplay=True))"
      ],
      "metadata": {
        "id": "H_IQJ8PSIxkq"
      },
      "execution_count": null,
      "outputs": []
    },
    {
      "cell_type": "code",
      "source": [
        "!cp -r /content/so-vits-svc-5.0/ /content/drive/MyDrive/"
      ],
      "metadata": {
        "id": "ygW71ni4T7bb"
      },
      "execution_count": null,
      "outputs": []
    },
    {
      "cell_type": "code",
      "source": [
        "!rm -rf /content/drive/MyDrive/so-vits-svc-5.0/chkpt"
      ],
      "metadata": {
        "id": "dlCGSW6XUrlr"
      },
      "execution_count": null,
      "outputs": []
    },
    {
      "cell_type": "markdown",
      "source": [
        "Base japanese wav creation"
      ],
      "metadata": {
        "id": "ZRjKD8dnYoTs"
      }
    },
    {
      "cell_type": "code",
      "source": [
        "!pip install -q pyopenjtalk-prebuilt\n",
        "!pip install -q pyopenjtalk[marine]"
      ],
      "metadata": {
        "id": "B2nwV74eYqZr"
      },
      "execution_count": null,
      "outputs": []
    },
    {
      "cell_type": "code",
      "source": [
        "import pyopenjtalk\n",
        "from scipy.io import wavfile\n",
        "import numpy as np\n",
        "\n",
        "x, sr = pyopenjtalk.tts(\"こういうことはしっかりと上司に連絡したほうがいいます。しっかりするます。明日は頑張るます。\", run_marine=True)\n",
        "\n",
        "wavfile.write(\"/content/test.wav\", sr, x.astype(np.int16))\n",
        "\n",
        "from IPython.display import Audio, display\n",
        "display(Audio(\"/content/test.wav\", autoplay=True))"
      ],
      "metadata": {
        "id": "END6pJBpLQVK"
      },
      "execution_count": null,
      "outputs": []
    },
    {
      "cell_type": "markdown",
      "source": [
        "音声を作成するJob"
      ],
      "metadata": {
        "id": "vv8l0a-aaDH6"
      }
    },
    {
      "cell_type": "code",
      "source": [
        "%cd /content/drive/MyDrive/so-vits-svc-5.0\n",
        "\n",
        "import pyopenjtalk\n",
        "from scipy.io import wavfile\n",
        "import numpy as np\n",
        "import os\n",
        "\n",
        "# ユースケース1: 新規顧客獲得\n",
        "case1 = [\n",
        "    {\"Q\": \"営業: こんにちは、村田さん。弊社のサービスに興味を持っていただきありがとうございます。まず最初に、お手伝いできることや特にお困りごとはありますか？\",\n",
        "     \"A\": \"お客様: はい、最近村田さんに課題を抱えていて、それに対する解決策を模索しています。\"},\n",
        "    {\"Q\": \"営業: それは理解できます。お聞かせいただければと思いますが、現在の課題の具体的なポイントは何でしょうか？\",\n",
        "     \"A\": \"お客様: 村田さんが効率的に機能していないことが主な課題です。\"},\n",
        "    {\"Q\": \"営業: なるほど、それは重要なポイントですね。弊社のサービスは、村田さんの効率向上に特に焦点を当てており、その点でお手伝いできるかもしれません。どのような要件や期待をお持ちでしょうか？\",\n",
        "     \"A\": \"お客様: 具体的な要件としては、村田さんがスムーズに行えることと、村田さんの改善案があれば教えていただきたいです。\"}\n",
        "]\n",
        "\n",
        "# ユースケース2: 既存顧客へのアップセル\n",
        "case2 = [\n",
        "    {\"Q\": \"営業: お世話になっております、村田さん。これまでのご利用ありがとうございます。今回は、新たな機能やアップグレードについてお知らせがあります。お時間いただけますでしょうか？\",\n",
        "     \"A\": \"お客様: はい、どのような内容ですか？\"},\n",
        "    {\"Q\": \"営業: 弊社では最近、〇〇機能を追加しました。これにより、〇〇の利便性が向上し、業務の効率化が期待できます。ご興味がありましたら、詳細をご案内させていただけますか？\",\n",
        "     \"A\": \"お客様: 興味がありますね。具体的にどのような変更があるのでしょうか？\"},\n",
        "    {\"Q\": \"営業: それでは、〇〇機能の詳細や導入メリットについてお話しいたしますね。\",\n",
        "     \"A\": \"お客様: 聞きたいことがあれば質問させてください。\"}\n",
        "]\n",
        "\n",
        "# ユースケース3: フィードバック収集\n",
        "case3 = [\n",
        "    {\"Q\": \"営業: こんにちは、〇〇さん。ご愛顧いただきありがとうございます。今日は、弊社のサービスに関するフィードバックをお伺いしたく存じます。ご意見やご感想がありましたらお聞かせいただけますか？\",\n",
        "     \"A\": \"お客様: あまり大きな問題はないですが、時々〇〇に関する使い勝手が気になります。\"},\n",
        "    {\"Q\": \"営業: それは貴重なご意見ですね。具体的にどのような点が気になりましたか？\",\n",
        "     \"A\": \"お客様: 〇〇の操作が少し複雑で、もっと直感的になればいいなと思います。\"},\n",
        "    {\"Q\": \"営業: 了解しました。おっしゃる通り、使いやすさが重要ですね。今後の開発で改善できるように努めてまいります。他にも何かありましたらお気軽におっしゃってください。\",\n",
        "     \"A\": \"お客様: ありがとうございます。他には特に問題ないですが、改善点があれば随時お知らせいたします。\"}\n",
        "]\n",
        "\n",
        "# 各ユースケースを辞書でまとめる\n",
        "qa_data = {\"case1\": case1, \"case2\": case2, \"case3\": case3}\n",
        "\n",
        "import os\n",
        "\n",
        "for name, c in qa_data.items():\n",
        "  os.makedirs(f\"/content/{name}\", exist_ok=True)\n",
        "\n",
        "  for idx, item in enumerate(c):\n",
        "    answer = item[\"A\"]\n",
        "\n",
        "    x, sr = pyopenjtalk.tts(answer, run_marine=True)\n",
        "\n",
        "    wavfile.write(\"/content/test.wav\", sr, x.astype(np.int16))\n",
        "\n",
        "    !python svc_inference.py --config configs/base.yaml --model sovits5.0.pth --spk ./data_svc/singer/speaker0.spk.npy --wave /content/test.wav --shift 0\n",
        "\n",
        "    os.system(f\"cp /content/drive/MyDrive/so-vits-svc-5.0/svc_out.wav /content/{name}/{str(idx).zfill(3)}.wav\")"
      ],
      "metadata": {
        "id": "61nqtnswaFUx"
      },
      "execution_count": null,
      "outputs": []
    },
    {
      "cell_type": "code",
      "source": [
        "!rm -rf /content/*.zip\n",
        "!zip -r /content/case1.zip /content/case1/\n",
        "!zip -r /content/case2.zip /content/case2/\n",
        "!zip -r /content/case3.zip /content/case3/"
      ],
      "metadata": {
        "id": "V3AeQbpSBRtj"
      },
      "execution_count": null,
      "outputs": []
    },
    {
      "cell_type": "markdown",
      "source": [
        "最近棒探索を利用したchatbot応答システム。"
      ],
      "metadata": {
        "id": "V8H_nrHlV4i2"
      }
    },
    {
      "cell_type": "code",
      "source": [
        "!pip install -U sentence-transformers"
      ],
      "metadata": {
        "id": "MbcHv09-V9uR"
      },
      "execution_count": null,
      "outputs": []
    },
    {
      "cell_type": "code",
      "source": [
        "from sentence_transformers import SentenceTransformer\n",
        "\n",
        "model = SentenceTransformer('pkshatech/GLuCoSE-base-ja')"
      ],
      "metadata": {
        "id": "TKLSZqM-Wwvk"
      },
      "execution_count": null,
      "outputs": []
    },
    {
      "cell_type": "code",
      "source": [
        "conversations = [\n",
        "    {\"question\": \"最近、数学が難しく感じるんだ。\", \"answer\": \"分からないところを教えてくれれば、一緒に解決してみよう。\"},\n",
        "    {\"question\": \"方程式の解き方がよくわからないんだけど。\", \"answer\": \"まずは具体的な方程式を教えてくれると助かるよ。\"},\n",
        "    {\"question\": \"三角関数が難しいなあ。\", \"answer\": \"特にどの部分が難しいと感じてるの？\"},\n",
        "    {\"question\": \"微分と積分の違いが分からないんだけど。\", \"answer\": \"微分は変化の率を求める操作で、積分は面積や合計を求める操作なんだよ。\"},\n",
        "    {\"question\": \"確率ってどうやって計算するの？\", \"answer\": \"確率の計算は試行回数や好ましい結果の場合の数を考えることから始めるんだ。\"},\n",
        "    {\"question\": \"複素数って何？\", \"answer\": \"複素数は実部と虚部からなる数で、iは虚数単位だよ。\"},\n",
        "    {\"question\": \"平方完成って難しいんだけど。\", \"answer\": \"平方完成は二次方程式を解くための方法で、具体的な例を一緒に見てみよう。\"},\n",
        "    {\"question\": \"三平方の定理を使った問題が解けないんだ。\", \"answer\": \"三平方の定理は直角三角形において、各辺の長さに関する定理だよ。どんな問題があるの？\"},\n",
        "    {\"question\": \"集合の演算ってどうやるの？\", \"answer\": \"和集合や積集合など、集合の演算は要素同士の関係性を考えるものだよ。\"},\n",
        "    {\"question\": \"関数のグラフの描き方が難しい。\", \"answer\": \"関数のグラフは、変数の値と関数の値の対応を視覚的に表現するものだよ。\"},\n",
        "    {\"question\": \"行列の掛け算って手順がいまいち分からないな。\", \"answer\": \"行列の掛け算は各要素同士の積を計算し、結果の行列を得る操作だよ。\"},\n",
        "    {\"question\": \"三角不等式って何？\", \"answer\": \"三角形の辺の長さを軸として、不等式を立てるやつだよ\"},\n",
        "    {\"question\": \"不等式の解き方が分からないんだ。\", \"answer\": \"不等式は、変数に対する条件を表すもので、解くと変数の取りうる範囲がわかるよ。\"},\n",
        "    {\"question\": \"数列と級数の違いは？\", \"answer\": \"数列は数の並びで、級数は数列の和を指すよ。\"},\n",
        "    {\"question\": \"因数分解ってどうやるの？\", \"answer\": \"因数分解は式を因数の積に分解する方法で、共通因数を見つけるとやりやすくなるよ。\"},\n",
        "    {\"question\": \"円の面積の求め方を教えて。\", \"answer\": \"円の面積はπr²だよ。半径が分からないと計算できないから、それが分かったら教えてね。\"},\n",
        "    {\"question\": \"直線と曲線の方程式の違いって何？\", \"answer\": \"直線の方程式は一次方程式で表され、曲線は二次方程式やそれ以上の次数の方程式になるよ。\"},\n",
        "    {\"question\": \"極座標って何だろう？\", \"answer\": \"極座標は、座標を半径と角度で表す方法で、円や複素数の表現に使われるよ。\"},\n",
        "    {\"question\": \"統計って難しいよね。\", \"answer\": \"統計はデータを分析する方法で、平均や標準偏差などを計算してデータの特徴を見つけるんだ。\"},\n",
        "    {\"question\": \"微分方程式って何？\", \"answer\": \"流体力学とかでよく出てくる方程式で、微分を基にして時間方向の方程式を立てる感じだよ\"}\n",
        "]\n",
        "\n",
        "questions = []\n",
        "for item in conversations:\n",
        "  questions.append(item[\"question\"])\n",
        "question_embeddings = model.encode(questions)"
      ],
      "metadata": {
        "id": "ly8Fe0sLWz3F"
      },
      "execution_count": null,
      "outputs": []
    },
    {
      "cell_type": "code",
      "source": [
        "import numpy as np\n",
        "\n",
        "def cosine_similarity(v1, v2):\n",
        "    dot_product = np.dot(v1, v2)\n",
        "    magnitude_v1 = np.linalg.norm(v1)\n",
        "    magnitude_v2 = np.linalg.norm(v2)\n",
        "\n",
        "    if magnitude_v1 == 0 or magnitude_v2 == 0:\n",
        "        return 0\n",
        "    else:\n",
        "        return dot_product / (magnitude_v1 * magnitude_v2)"
      ],
      "metadata": {
        "id": "h8FYl3SrXkhr"
      },
      "execution_count": null,
      "outputs": []
    },
    {
      "cell_type": "code",
      "source": [
        "query = \"級数について教えて\"\n",
        "source_embeddings = model.encode([query])\n",
        "\n",
        "cos_sim_value_list = []\n",
        "for t in question_embeddings:\n",
        "  cos_sim_value = cosine_similarity(t, source_embeddings.reshape(-1))\n",
        "  cos_sim_value_list.append(cos_sim_value)\n",
        "\n",
        "top_id = np.argsort(cos_sim_value_list)[::-1][0]\n",
        "print(conversations[top_id][\"answer\"])"
      ],
      "metadata": {
        "colab": {
          "base_uri": "https://localhost:8080/"
        },
        "id": "jzkmPVQjXE7u",
        "outputId": "a8cff3e6-efe7-4ba5-b094-5273d661c3d0"
      },
      "execution_count": null,
      "outputs": [
        {
          "output_type": "stream",
          "name": "stdout",
          "text": [
            "数列は数の並びで、級数は数列の和を指すよ。\n"
          ]
        }
      ]
    },
    {
      "cell_type": "markdown",
      "source": [
        "WebUI"
      ],
      "metadata": {
        "id": "M_Tk-8IndAIP"
      }
    },
    {
      "cell_type": "code",
      "source": [
        "!pip install -q gradio"
      ],
      "metadata": {
        "id": "JUfRRRlFdBAw"
      },
      "execution_count": null,
      "outputs": []
    },
    {
      "cell_type": "code",
      "source": [
        "from sentence_transformers import SentenceTransformer\n",
        "import numpy as np\n",
        "from scipy.io import wavfile\n",
        "\n",
        "def wav_to_np_array(file_path):\n",
        "    # WAV ファイルの読み込み\n",
        "    sample_rate, data = wavfile.read(file_path)\n",
        "\n",
        "    # 複数のチャンネルがある場合、1つに統合\n",
        "    if len(data.shape) > 1:\n",
        "        data = np.mean(data, axis=1)\n",
        "\n",
        "    return sample_rate, data\n",
        "\n",
        "\n",
        "def cosine_similarity(v1, v2):\n",
        "    dot_product = np.dot(v1, v2)\n",
        "    magnitude_v1 = np.linalg.norm(v1)\n",
        "    magnitude_v2 = np.linalg.norm(v2)\n",
        "\n",
        "    if magnitude_v1 == 0 or magnitude_v2 == 0:\n",
        "        return 0\n",
        "    else:\n",
        "        return dot_product / (magnitude_v1 * magnitude_v2)\n",
        "\n",
        "model = SentenceTransformer('pkshatech/GLuCoSE-base-ja')\n",
        "\n",
        "conversations = [\n",
        "    {\"question\": \"最近、数学が難しく感じるんだ。\", \"answer\": \"分からないところを教えてくれれば、一緒に解決してみよう。\"},\n",
        "    {\"question\": \"方程式の解き方がよくわからないんだけど。\", \"answer\": \"まずは具体的な方程式を教えてくれると助かるよ。\"},\n",
        "    {\"question\": \"三角関数が難しいなあ。\", \"answer\": \"特にどの部分が難しいと感じてるの？\"},\n",
        "    {\"question\": \"微分と積分の違いが分からないんだけど。\", \"answer\": \"微分は変化の率を求める操作で、積分は面積や合計を求める操作なんだよ。\"},\n",
        "    {\"question\": \"確率ってどうやって計算するの？\", \"answer\": \"確率の計算は試行回数や好ましい結果の場合の数を考えることから始めるんだ。\"},\n",
        "    {\"question\": \"複素数って何？\", \"answer\": \"複素数は実部と虚部からなる数で、iは虚数単位だよ。\"},\n",
        "    {\"question\": \"平方完成って難しいんだけど。\", \"answer\": \"平方完成は二次方程式を解くための方法で、具体的な例を一緒に見てみよう。\"},\n",
        "    {\"question\": \"三平方の定理を使った問題が解けないんだ。\", \"answer\": \"三平方の定理は直角三角形において、各辺の長さに関する定理だよ。どんな問題があるの？\"},\n",
        "    {\"question\": \"集合の演算ってどうやるの？\", \"answer\": \"和集合や積集合など、集合の演算は要素同士の関係性を考えるものだよ。\"},\n",
        "    {\"question\": \"関数のグラフの描き方が難しい。\", \"answer\": \"関数のグラフは、変数の値と関数の値の対応を視覚的に表現するものだよ。\"},\n",
        "    {\"question\": \"行列の掛け算って手順がいまいち分からないな。\", \"answer\": \"行列の掛け算は各要素同士の積を計算し、結果の行列を得る操作だよ。\"},\n",
        "    {\"question\": \"三角不等式って何？\", \"answer\": \"三角形の辺の長さを軸として、不等式を立てるやつだよ\"},\n",
        "    {\"question\": \"不等式の解き方が分からないんだ。\", \"answer\": \"不等式は、変数に対する条件を表すもので、解くと変数の取りうる範囲がわかるよ。\"},\n",
        "    {\"question\": \"数列と級数の違いは？\", \"answer\": \"数列は数の並びで、級数は数列の和を指すよ。\"},\n",
        "    {\"question\": \"因数分解ってどうやるの？\", \"answer\": \"因数分解は式を因数の積に分解する方法で、共通因数を見つけるとやりやすくなるよ。\"},\n",
        "    {\"question\": \"円の面積の求め方を教えて。\", \"answer\": \"円の面積はπr²だよ。半径が分からないと計算できないから、それが分かったら教えてね。\"},\n",
        "    {\"question\": \"直線と曲線の方程式の違いって何？\", \"answer\": \"直線の方程式は一次方程式で表され、曲線は二次方程式やそれ以上の次数の方程式になるよ。\"},\n",
        "    {\"question\": \"極座標って何だろう？\", \"answer\": \"極座標は、座標を半径と角度で表す方法で、円や複素数の表現に使われるよ。\"},\n",
        "    {\"question\": \"統計って難しいよね。\", \"answer\": \"統計はデータを分析する方法で、平均や標準偏差などを計算してデータの特徴を見つけるんだ。\"},\n",
        "    {\"question\": \"微分方程式って何？\", \"answer\": \"流体力学とかでよく出てくる方程式で、微分を基にして時間方向の方程式を立てる感じだよ\"}\n",
        "]\n",
        "\n",
        "questions = []\n",
        "for item in conversations:\n",
        "  questions.append(item[\"question\"])\n",
        "question_embeddings = model.encode(questions)\n"
      ],
      "metadata": {
        "id": "TcOShwl1dHHX"
      },
      "execution_count": null,
      "outputs": []
    },
    {
      "cell_type": "code",
      "source": [
        "import gradio as gr\n",
        "\n",
        "blocks = gr.Blocks()\n",
        "\n",
        "message_history = []\n",
        "\n",
        "with blocks as demo:\n",
        "  with gr.Row():\n",
        "    gr.Markdown(\"## Mathmatic Chatbot\")\n",
        "\n",
        "  with gr.Column():\n",
        "    chatbot = gr.Chatbot()\n",
        "\n",
        "    with gr.Row():\n",
        "      input = gr.Textbox(label=\"Input\")\n",
        "\n",
        "    audio = gr.Audio(label=\"Output Audio\", elem_id=\"tts-audio\", autoplay=True)\n",
        "\n",
        "    def chat_func(query):\n",
        "      global message_history\n",
        "\n",
        "      message_history.append({\n",
        "          \"role\": \"user\",\n",
        "          \"content\": query\n",
        "      })\n",
        "      source_embeddings = model.encode([query])\n",
        "\n",
        "      cos_sim_value_list = []\n",
        "      for t in question_embeddings:\n",
        "        cos_sim_value = cosine_similarity(t, source_embeddings.reshape(-1))\n",
        "        cos_sim_value_list.append(cos_sim_value)\n",
        "\n",
        "      top_id = np.argsort(cos_sim_value_list)[::-1][0]\n",
        "      answer = conversations[top_id][\"answer\"]\n",
        "\n",
        "      message_history.append({\n",
        "          \"role\": \"assistant\",\n",
        "          \"content\": answer\n",
        "      })\n",
        "\n",
        "      # WAV ファイルのパス\n",
        "      file_path = f'/content/answerfiles/{str(top_id).zfill(3)}.wav'\n",
        "      # WAV ファイルを numpy 配列に変換\n",
        "      sample_rate, audio_data = wav_to_np_array(file_path)\n",
        "\n",
        "      return [(message_history[i][\"content\"], message_history[i + 1][\"content\"]) for i in range(0, len(message_history) - 1, 2)], (sample_rate, audio_data)\n",
        "\n",
        "\n",
        "    input.submit(\n",
        "        chat_func,\n",
        "        inputs=[input],\n",
        "        outputs=[chatbot, audio]\n",
        "    )\n",
        "\n",
        "    input.submit(\n",
        "        fn= lambda: \"\",\n",
        "        inputs=None,\n",
        "        outputs=input\n",
        "    )\n",
        "\n",
        "demo.launch(debug=True)"
      ],
      "metadata": {
        "id": "pemBLSEBdDLy"
      },
      "execution_count": null,
      "outputs": []
    }
  ],
  "metadata": {
    "accelerator": "GPU",
    "colab": {
      "provenance": [],
      "authorship_tag": "ABX9TyPeO/A9jdMmFPzAmMfzOlKu",
      "include_colab_link": true
    },
    "kernelspec": {
      "display_name": "Python 3",
      "name": "python3"
    },
    "language_info": {
      "name": "python"
    }
  },
  "nbformat": 4,
  "nbformat_minor": 0
}